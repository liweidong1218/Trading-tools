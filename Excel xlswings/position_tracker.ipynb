{
 "cells": [
  {
   "cell_type": "code",
   "execution_count": 2,
   "metadata": {},
   "outputs": [
    {
     "data": {
      "text/plain": [
       "'d:\\\\Git Repository\\\\Trading-tools\\\\Excel xlswings'"
      ]
     },
     "execution_count": 2,
     "metadata": {},
     "output_type": "execute_result"
    }
   ],
   "source": [
    "import os\n",
    "os.getcwd()"
   ]
  },
  {
   "cell_type": "code",
   "execution_count": 1,
   "metadata": {},
   "outputs": [],
   "source": [
    "import os\n",
    "import pandas as pd\n",
    "path = 'C:\\\\Users\\\\liwei\\Desktop\\\\Fort Baker\\\\FBCM Operations\\\\02012022\\\\'\n",
    "enfusion_filename = 'Daily_position_FBCMF.csv'\n",
    "risk_mmonitor_filename = 'Risk Monitor.xlsx'"
   ]
  },
  {
   "cell_type": "code",
   "execution_count": 2,
   "metadata": {},
   "outputs": [],
   "source": [
    "raw_df = pd.read_csv(path + enfusion_filename)\n",
    "risk_df = pd.read_excel(path + risk_mmonitor_filename, sheet_name = 'RISK', usecols= 'A, B, D, V, W')"
   ]
  },
  {
   "cell_type": "code",
   "execution_count": 3,
   "metadata": {},
   "outputs": [],
   "source": [
    "# data feed from enfusion\n",
    "clean_df = raw_df[['FundName', 'FB Book Name', 'FB Issuer Ticker', 'FB Nominal Quantity', 'Instrument Type']].copy()\n",
    "clean_df.dropna(inplace = True)\n",
    "clean_df = clean_df[(clean_df['Instrument Type']!='FX Forward') & (clean_df['Instrument Type']!='Cash')]\n",
    "clean_df.reset_index(drop = True, inplace = True)\n",
    "clean_df['FB Nominal Quantity'] = clean_df['FB Nominal Quantity'].astype('float')\n",
    "clean_df['FB Issuer Ticker'] = clean_df['FB Issuer Ticker'].str.upper()\n"
   ]
  },
  {
   "cell_type": "code",
   "execution_count": 4,
   "metadata": {},
   "outputs": [],
   "source": [
    "# current data in risk monitor\n",
    "risk_df.dropna(axis = 0, how = 'all', inplace = True)\n",
    "risk_df.drop(risk_df.tail(15).index, inplace = True)\n",
    "risk_df.drop(risk_df.head(9).index, inplace = True)\n",
    "risk_df.columns = ['FB Issuer Ticker', 'ACQ Ticker', 'FB Book Name', 'TGT', 'ACQ']\n",
    "risk_df['TGT'] = risk_df['TGT'].astype('float')\n",
    "risk_df['ACQ'] = risk_df['ACQ'].astype('float')"
   ]
  },
  {
   "cell_type": "code",
   "execution_count": 5,
   "metadata": {},
   "outputs": [],
   "source": [
    "row_headers = ['RELATIVE VALUE CATALYST', 'CONVERTS', 'MANDATORY', 'PRE DEAL SPACS', 'SPAC WARRANTS', 'WARRANTS']\n",
    "temp_risk_df=risk_df[risk_df['FB Issuer Ticker'].isin(row_headers)==False]\n",
    "\n",
    "colnames = ['FB Issuer Ticker', 'FB Book Name', 'FB Nominal Quantity']\n",
    "ACQ_df = temp_risk_df[['ACQ Ticker', 'FB Book Name', 'ACQ']]\n",
    "ACQ_df.columns = colnames\n",
    "TGT_df = temp_risk_df[['FB Issuer Ticker', 'FB Book Name', 'TGT']]\n",
    "TGT_df.columns = colnames\n",
    "clean_risk_df = ACQ_df.append(TGT_df).copy()"
   ]
  },
  {
   "cell_type": "code",
   "execution_count": 6,
   "metadata": {},
   "outputs": [],
   "source": [
    "ACQ_group_df = ACQ_df.groupby(['FB Issuer Ticker', 'FB Book Name']).sum()\n",
    "TGT_group_df = TGT_df.groupby(['FB Issuer Ticker', 'FB Book Name']).sum()"
   ]
  },
  {
   "cell_type": "code",
   "execution_count": 7,
   "metadata": {},
   "outputs": [],
   "source": [
    "merge_df = TGT_group_df.merge(ACQ_group_df, on = ['FB Issuer Ticker', 'FB Book Name'], how = 'outer')\n",
    "merge_df = merge_df.fillna(0)"
   ]
  },
  {
   "cell_type": "code",
   "execution_count": 8,
   "metadata": {},
   "outputs": [],
   "source": [
    "closed_df = merge_df.loc[(merge_df==0).all(axis=1)]\n",
    "open_raw_df = merge_df.loc[~(merge_df==0).all(axis=1)]"
   ]
  },
  {
   "cell_type": "code",
   "execution_count": 9,
   "metadata": {},
   "outputs": [
    {
     "name": "stdout",
     "output_type": "stream",
     "text": [
      "Wall time: 14 ms\n"
     ]
    }
   ],
   "source": [
    "%%time\n",
    "open_list = []\n",
    "for i in range(open_raw_df.shape[0]):\n",
    "    if open_raw_df.iloc[i, 0] * open_raw_df.iloc[i, 1] == 0:\n",
    "        open_list.append(open_raw_df.iloc[i, 0]+open_raw_df.iloc[i, 1])\n",
    "    else: \n",
    "        open_list.append(max(open_raw_df.iloc[i, 0], open_raw_df.iloc[i, 1]))\n",
    "\n",
    "open_group_df = pd.DataFrame(open_list, index = open_raw_df.index, columns = ['FB Nominal Quantity'])"
   ]
  },
  {
   "cell_type": "code",
   "execution_count": 10,
   "metadata": {},
   "outputs": [],
   "source": [
    "clean_group_df = clean_df.groupby(['FB Issuer Ticker', 'FB Book Name']).sum()\n",
    "clean_open_df = clean_group_df.loc[~(clean_group_df==0).all(axis=1)]"
   ]
  },
  {
   "cell_type": "code",
   "execution_count": null,
   "metadata": {},
   "outputs": [],
   "source": []
  },
  {
   "cell_type": "code",
   "execution_count": null,
   "metadata": {},
   "outputs": [],
   "source": [
    "open_group_df.merge(clean_group_df, how='inner')"
   ]
  },
  {
   "cell_type": "code",
   "execution_count": 13,
   "metadata": {},
   "outputs": [],
   "source": [
    "diff = pd.concat([open_group_df,clean_group_df]).drop_duplicates(keep=False)"
   ]
  },
  {
   "cell_type": "code",
   "execution_count": 14,
   "metadata": {},
   "outputs": [
    {
     "data": {
      "text/html": [
       "<div>\n",
       "<style scoped>\n",
       "    .dataframe tbody tr th:only-of-type {\n",
       "        vertical-align: middle;\n",
       "    }\n",
       "\n",
       "    .dataframe tbody tr th {\n",
       "        vertical-align: top;\n",
       "    }\n",
       "\n",
       "    .dataframe thead th {\n",
       "        text-align: right;\n",
       "    }\n",
       "</style>\n",
       "<table border=\"1\" class=\"dataframe\">\n",
       "  <thead>\n",
       "    <tr style=\"text-align: right;\">\n",
       "      <th></th>\n",
       "      <th></th>\n",
       "      <th>FB Nominal Quantity</th>\n",
       "    </tr>\n",
       "    <tr>\n",
       "      <th>FB Issuer Ticker</th>\n",
       "      <th>FB Book Name</th>\n",
       "      <th></th>\n",
       "    </tr>\n",
       "  </thead>\n",
       "  <tbody>\n",
       "    <tr>\n",
       "      <th>SCMA PRIVATE</th>\n",
       "      <th>Pre Deal SPACs</th>\n",
       "      <td>32500.0</td>\n",
       "    </tr>\n",
       "  </tbody>\n",
       "</table>\n",
       "</div>"
      ],
      "text/plain": [
       "                                 FB Nominal Quantity\n",
       "FB Issuer Ticker FB Book Name                       \n",
       "SCMA PRIVATE     Pre Deal SPACs              32500.0"
      ]
     },
     "execution_count": 14,
     "metadata": {},
     "output_type": "execute_result"
    }
   ],
   "source": [
    "diff"
   ]
  },
  {
   "cell_type": "code",
   "execution_count": null,
   "metadata": {},
   "outputs": [],
   "source": [
    "open_group_df.sort_values(['FB Issuer Ticker'], ascending = True).to_csv(path+'open.csv')"
   ]
  },
  {
   "cell_type": "code",
   "execution_count": null,
   "metadata": {},
   "outputs": [],
   "source": [
    "clean_open_df.sort_values(['FB Issuer Ticker'], ascending = True).to_csv(path+'clean.csv')"
   ]
  },
  {
   "cell_type": "code",
   "execution_count": null,
   "metadata": {},
   "outputs": [],
   "source": []
  }
 ],
 "metadata": {
  "kernelspec": {
   "display_name": "Python 3",
   "language": "python",
   "name": "python3"
  },
  "language_info": {
   "codemirror_mode": {
    "name": "ipython",
    "version": 3
   },
   "file_extension": ".py",
   "mimetype": "text/x-python",
   "name": "python",
   "nbconvert_exporter": "python",
   "pygments_lexer": "ipython3",
   "version": "3.9.6"
  }
 },
 "nbformat": 4,
 "nbformat_minor": 2
}
