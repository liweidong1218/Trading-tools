{
 "cells": [
  {
   "cell_type": "code",
   "execution_count": 3,
   "metadata": {},
   "outputs": [
    {
     "name": "stdout",
     "output_type": "stream",
     "text": [
      "{\"timestamp\":\"2022-02-03T22:04:52.149+00:00\",\"status\":500,\"error\":\"Internal Server Error\",\"message\":\"Caller 'ldong@fortbakercapital.com' is not a service user\",\"path\":\"/mobile/rest/reportservice/exportReport\"}\n"
     ]
    }
   ],
   "source": [
    "import requests as req\n",
    "from requests.auth import HTTPBasicAuth\n",
    "url = 'https://webservices.enfusionsystems.com/mobile/rest/reportservice/exportReport?name=shared%2FDaily+Positions+Report.ppr'\n",
    "resp = req.get(url, auth=HTTPBasicAuth('ldong@fortbakercapital.com', 'BVt*V@27+S5`hz+Y'))\n",
    "print(resp.text) # Printing response"
   ]
  }
 ],
 "metadata": {
  "kernelspec": {
   "display_name": "Python 3",
   "language": "python",
   "name": "python3"
  },
  "language_info": {
   "codemirror_mode": {
    "name": "ipython",
    "version": 3
   },
   "file_extension": ".py",
   "mimetype": "text/x-python",
   "name": "python",
   "nbconvert_exporter": "python",
   "pygments_lexer": "ipython3",
   "version": "3.9.6"
  }
 },
 "nbformat": 4,
 "nbformat_minor": 2
}
